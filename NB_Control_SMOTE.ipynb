{
  "nbformat": 4,
  "nbformat_minor": 0,
  "metadata": {
    "colab": {
      "name": "NB_Control/SMOTE.ipynb",
      "provenance": []
    },
    "kernelspec": {
      "name": "python3",
      "display_name": "Python 3"
    }
  },
  "cells": [
    {
      "cell_type": "code",
      "metadata": {
        "id": "MKCGipIkLIgj",
        "colab": {
          "base_uri": "https://localhost:8080/"
        },
        "outputId": "6f8adef9-6a4f-4064-8a25-70d729dd5c51"
      },
      "source": [
        "#Mount Gooogle Drive (Location of Dataset)\r\n",
        "from google.colab import drive\r\n",
        "drive.mount('/content/drive')"
      ],
      "execution_count": 1,
      "outputs": [
        {
          "output_type": "stream",
          "text": [
            "Mounted at /content/drive\n"
          ],
          "name": "stdout"
        }
      ]
    },
    {
      "cell_type": "code",
      "metadata": {
        "colab": {
          "base_uri": "https://localhost:8080/"
        },
        "id": "CZW_oebGTG4O",
        "outputId": "f5734ba9-60d9-4cf6-a6e1-9cb3cc13ecc2"
      },
      "source": [
        "#Read in CAV Cybersecurity Dataset\r\n",
        "import pandas as pd\r\n",
        "from pandas import read_excel\r\n",
        "df = read_excel('/content/drive/My Drive/CAV-KDD.xlsx')\r\n",
        "print(df.head())"
      ],
      "execution_count": 2,
      "outputs": [
        {
          "output_type": "stream",
          "text": [
            "   duration protocol_type  ... dst_host_srv_rerror_rate attack_label\n",
            "0         0           udp  ...                      0.0      normal.\n",
            "1         0           udp  ...                      0.0      normal.\n",
            "2         0           udp  ...                      0.0      normal.\n",
            "3         0           udp  ...                      0.0      normal.\n",
            "4         0           udp  ...                      0.0      normal.\n",
            "\n",
            "[5 rows x 42 columns]\n"
          ],
          "name": "stdout"
        }
      ]
    },
    {
      "cell_type": "code",
      "metadata": {
        "colab": {
          "base_uri": "https://localhost:8080/"
        },
        "id": "Wixpk_r4TRj_",
        "outputId": "17a92925-2638-4d4b-c71b-165193fb265b"
      },
      "source": [
        "#Prior to Label Encoding\r\n",
        "print(df.iloc[1500])\r\n",
        "print(df.iloc[1])\r\n",
        "print(df.iloc[171000])"
      ],
      "execution_count": 3,
      "outputs": [
        {
          "output_type": "stream",
          "text": [
            "duration                            0\n",
            "protocol_type                    icmp\n",
            "service                         ecr_i\n",
            "flag                               SF\n",
            "src_bytes                        1032\n",
            "dst_bytes                           0\n",
            "land                                0\n",
            "wrong_fragment                      0\n",
            "urgent                              0\n",
            "hot                                 0\n",
            "num_failed_logins                   0\n",
            "logged_in                           0\n",
            "num_compromised                     0\n",
            "root_shell                          0\n",
            "su_attempted                        0\n",
            "num_root                            0\n",
            "num_file_creations                  0\n",
            "num_shells                          0\n",
            "num_access_files                    0\n",
            "num_outbound_cmds                   0\n",
            "is_host_login                       0\n",
            "is_guest_login                      0\n",
            "count                             509\n",
            "srv_count                         509\n",
            "serror_rate                         0\n",
            "srv_serror_rate                     0\n",
            "rerror_rate                         0\n",
            "srv_rerror_rate                     0\n",
            "same_srv_rate                       1\n",
            "diff_srv_rate                       0\n",
            "srv_diff_host_rate                  0\n",
            "dst_host_count                    255\n",
            "dst_host_srv_count                255\n",
            "dst_host_same_srv_rate              1\n",
            "dst_host_diff_srv_rate              0\n",
            "dst_host_same_src_port_rate         1\n",
            "dst_host_srv_diff_host_rate         0\n",
            "dst_host_serror_rate                0\n",
            "dst_host_srv_serror_rate            0\n",
            "dst_host_rerror_rate                0\n",
            "dst_host_srv_rerror_rate            0\n",
            "attack_label                   smurf.\n",
            "Name: 1500, dtype: object\n",
            "duration                             0\n",
            "protocol_type                      udp\n",
            "service                        private\n",
            "flag                                SF\n",
            "src_bytes                          105\n",
            "dst_bytes                          146\n",
            "land                                 0\n",
            "wrong_fragment                       0\n",
            "urgent                               0\n",
            "hot                                  0\n",
            "num_failed_logins                    0\n",
            "logged_in                            0\n",
            "num_compromised                      0\n",
            "root_shell                           0\n",
            "su_attempted                         0\n",
            "num_root                             0\n",
            "num_file_creations                   0\n",
            "num_shells                           0\n",
            "num_access_files                     0\n",
            "num_outbound_cmds                    0\n",
            "is_host_login                        0\n",
            "is_guest_login                       0\n",
            "count                                1\n",
            "srv_count                            1\n",
            "serror_rate                          0\n",
            "srv_serror_rate                      0\n",
            "rerror_rate                          0\n",
            "srv_rerror_rate                      0\n",
            "same_srv_rate                        1\n",
            "diff_srv_rate                        0\n",
            "srv_diff_host_rate                   0\n",
            "dst_host_count                     255\n",
            "dst_host_srv_count                 254\n",
            "dst_host_same_srv_rate               1\n",
            "dst_host_diff_srv_rate            0.01\n",
            "dst_host_same_src_port_rate          0\n",
            "dst_host_srv_diff_host_rate          0\n",
            "dst_host_serror_rate                 0\n",
            "dst_host_srv_serror_rate             0\n",
            "dst_host_rerror_rate                 0\n",
            "dst_host_srv_rerror_rate             0\n",
            "attack_label                   normal.\n",
            "Name: 1, dtype: object\n",
            "duration                            0\n",
            "protocol_type                    icmp\n",
            "service                         ecr_i\n",
            "flag                               SF\n",
            "src_bytes                        1032\n",
            "dst_bytes                           0\n",
            "land                                0\n",
            "wrong_fragment                      0\n",
            "urgent                              0\n",
            "hot                                 0\n",
            "num_failed_logins                   0\n",
            "logged_in                           0\n",
            "num_compromised                     0\n",
            "root_shell                          0\n",
            "su_attempted                        0\n",
            "num_root                            0\n",
            "num_file_creations                  0\n",
            "num_shells                          0\n",
            "num_access_files                    0\n",
            "num_outbound_cmds                   0\n",
            "is_host_login                       0\n",
            "is_guest_login                      0\n",
            "count                             103\n",
            "srv_count                         103\n",
            "serror_rate                         0\n",
            "srv_serror_rate                     0\n",
            "rerror_rate                         0\n",
            "srv_rerror_rate                     0\n",
            "same_srv_rate                       1\n",
            "diff_srv_rate                       0\n",
            "srv_diff_host_rate                  0\n",
            "dst_host_count                    255\n",
            "dst_host_srv_count                255\n",
            "dst_host_same_srv_rate              1\n",
            "dst_host_diff_srv_rate              0\n",
            "dst_host_same_src_port_rate         1\n",
            "dst_host_srv_diff_host_rate         0\n",
            "dst_host_serror_rate                0\n",
            "dst_host_srv_serror_rate            0\n",
            "dst_host_rerror_rate                0\n",
            "dst_host_srv_rerror_rate            0\n",
            "attack_label                   smurf.\n",
            "Name: 171000, dtype: object\n"
          ],
          "name": "stdout"
        }
      ]
    },
    {
      "cell_type": "code",
      "metadata": {
        "id": "p0F28o3RUB3W"
      },
      "source": [
        "#Label Encoding\r\n",
        "cat_features=['protocol_type', 'service', 'flag']\r\n",
        "\r\n",
        "from sklearn.preprocessing import LabelEncoder\r\n",
        "\r\n",
        "le=LabelEncoder()\r\n",
        "\r\n",
        "for col in cat_features:\r\n",
        "    if col in df.columns:\r\n",
        "        i = df.columns.get_loc(col)\r\n",
        "        df.iloc[:,i] = df.apply(lambda i:le.fit_transform(i.astype(str)), axis=0, result_type='expand')"
      ],
      "execution_count": 4,
      "outputs": []
    },
    {
      "cell_type": "code",
      "metadata": {
        "colab": {
          "base_uri": "https://localhost:8080/"
        },
        "id": "li_VCAmzU8DB",
        "outputId": "80c640d1-ba9b-499c-f7a4-121795ee7254"
      },
      "source": [
        "#Test to see success of label encoding\r\n",
        "print(df.iloc[1500])\r\n",
        "print(df.iloc[1])\r\n",
        "print(df.iloc[171000])"
      ],
      "execution_count": 5,
      "outputs": [
        {
          "output_type": "stream",
          "text": [
            "duration                            0\n",
            "protocol_type                       0\n",
            "service                            14\n",
            "flag                                9\n",
            "src_bytes                        1032\n",
            "dst_bytes                           0\n",
            "land                                0\n",
            "wrong_fragment                      0\n",
            "urgent                              0\n",
            "hot                                 0\n",
            "num_failed_logins                   0\n",
            "logged_in                           0\n",
            "num_compromised                     0\n",
            "root_shell                          0\n",
            "su_attempted                        0\n",
            "num_root                            0\n",
            "num_file_creations                  0\n",
            "num_shells                          0\n",
            "num_access_files                    0\n",
            "num_outbound_cmds                   0\n",
            "is_host_login                       0\n",
            "is_guest_login                      0\n",
            "count                             509\n",
            "srv_count                         509\n",
            "serror_rate                         0\n",
            "srv_serror_rate                     0\n",
            "rerror_rate                         0\n",
            "srv_rerror_rate                     0\n",
            "same_srv_rate                       1\n",
            "diff_srv_rate                       0\n",
            "srv_diff_host_rate                  0\n",
            "dst_host_count                    255\n",
            "dst_host_srv_count                255\n",
            "dst_host_same_srv_rate              1\n",
            "dst_host_diff_srv_rate              0\n",
            "dst_host_same_src_port_rate         1\n",
            "dst_host_srv_diff_host_rate         0\n",
            "dst_host_serror_rate                0\n",
            "dst_host_srv_serror_rate            0\n",
            "dst_host_rerror_rate                0\n",
            "dst_host_srv_rerror_rate            0\n",
            "attack_label                   smurf.\n",
            "Name: 1500, dtype: object\n",
            "duration                             0\n",
            "protocol_type                        2\n",
            "service                             45\n",
            "flag                                 9\n",
            "src_bytes                          105\n",
            "dst_bytes                          146\n",
            "land                                 0\n",
            "wrong_fragment                       0\n",
            "urgent                               0\n",
            "hot                                  0\n",
            "num_failed_logins                    0\n",
            "logged_in                            0\n",
            "num_compromised                      0\n",
            "root_shell                           0\n",
            "su_attempted                         0\n",
            "num_root                             0\n",
            "num_file_creations                   0\n",
            "num_shells                           0\n",
            "num_access_files                     0\n",
            "num_outbound_cmds                    0\n",
            "is_host_login                        0\n",
            "is_guest_login                       0\n",
            "count                                1\n",
            "srv_count                            1\n",
            "serror_rate                          0\n",
            "srv_serror_rate                      0\n",
            "rerror_rate                          0\n",
            "srv_rerror_rate                      0\n",
            "same_srv_rate                        1\n",
            "diff_srv_rate                        0\n",
            "srv_diff_host_rate                   0\n",
            "dst_host_count                     255\n",
            "dst_host_srv_count                 254\n",
            "dst_host_same_srv_rate               1\n",
            "dst_host_diff_srv_rate            0.01\n",
            "dst_host_same_src_port_rate          0\n",
            "dst_host_srv_diff_host_rate          0\n",
            "dst_host_serror_rate                 0\n",
            "dst_host_srv_serror_rate             0\n",
            "dst_host_rerror_rate                 0\n",
            "dst_host_srv_rerror_rate             0\n",
            "attack_label                   normal.\n",
            "Name: 1, dtype: object\n",
            "duration                            0\n",
            "protocol_type                       0\n",
            "service                            14\n",
            "flag                                9\n",
            "src_bytes                        1032\n",
            "dst_bytes                           0\n",
            "land                                0\n",
            "wrong_fragment                      0\n",
            "urgent                              0\n",
            "hot                                 0\n",
            "num_failed_logins                   0\n",
            "logged_in                           0\n",
            "num_compromised                     0\n",
            "root_shell                          0\n",
            "su_attempted                        0\n",
            "num_root                            0\n",
            "num_file_creations                  0\n",
            "num_shells                          0\n",
            "num_access_files                    0\n",
            "num_outbound_cmds                   0\n",
            "is_host_login                       0\n",
            "is_guest_login                      0\n",
            "count                             103\n",
            "srv_count                         103\n",
            "serror_rate                         0\n",
            "srv_serror_rate                     0\n",
            "rerror_rate                         0\n",
            "srv_rerror_rate                     0\n",
            "same_srv_rate                       1\n",
            "diff_srv_rate                       0\n",
            "srv_diff_host_rate                  0\n",
            "dst_host_count                    255\n",
            "dst_host_srv_count                255\n",
            "dst_host_same_srv_rate              1\n",
            "dst_host_diff_srv_rate              0\n",
            "dst_host_same_src_port_rate         1\n",
            "dst_host_srv_diff_host_rate         0\n",
            "dst_host_serror_rate                0\n",
            "dst_host_srv_serror_rate            0\n",
            "dst_host_rerror_rate                0\n",
            "dst_host_srv_rerror_rate            0\n",
            "attack_label                   smurf.\n",
            "Name: 171000, dtype: object\n"
          ],
          "name": "stdout"
        }
      ]
    },
    {
      "cell_type": "code",
      "metadata": {
        "colab": {
          "base_uri": "https://localhost:8080/",
          "height": 962
        },
        "id": "qZ4NvVdfyCiN",
        "outputId": "e20745cd-3347-4ee0-9f70-7698a6db56b6"
      },
      "source": [
        "from sklearn.feature_selection import SelectKBest\r\n",
        "from sklearn.feature_selection import chi2\r\n",
        "from sklearn.feature_selection import VarianceThreshold\r\n",
        "from sklearn.ensemble import RandomForestClassifier\r\n",
        "import matplotlib.pyplot as plt\r\n",
        "\r\n",
        "X = df.iloc[:, :-1].values\r\n",
        "y = df.iloc[:, -1].values\r\n",
        "model = RandomForestClassifier()\r\n",
        "# fit the model\r\n",
        "model.fit(X, y)\r\n",
        "# get importance\r\n",
        "importance = model.feature_importances_\r\n",
        "# summarize feature importance\r\n",
        "for i,v in enumerate(importance):\r\n",
        "\tprint('Feature: %0d, Score: %.5f' % (i,v))\r\n",
        "# plot feature importance\r\n",
        "plt.bar([x for x in range(len(importance))], importance)\r\n",
        "plt.show()\r\n"
      ],
      "execution_count": null,
      "outputs": [
        {
          "output_type": "stream",
          "text": [
            "Feature: 0, Score: 0.00585\n",
            "Feature: 1, Score: 0.12291\n",
            "Feature: 2, Score: 0.10592\n",
            "Feature: 3, Score: 0.05767\n",
            "Feature: 4, Score: 0.12581\n",
            "Feature: 5, Score: 0.03567\n",
            "Feature: 6, Score: 0.00000\n",
            "Feature: 7, Score: 0.00191\n",
            "Feature: 8, Score: 0.00001\n",
            "Feature: 9, Score: 0.00005\n",
            "Feature: 10, Score: 0.00129\n",
            "Feature: 11, Score: 0.02613\n",
            "Feature: 12, Score: 0.00002\n",
            "Feature: 13, Score: 0.00003\n",
            "Feature: 14, Score: 0.00000\n",
            "Feature: 15, Score: 0.00001\n",
            "Feature: 16, Score: 0.00002\n",
            "Feature: 17, Score: 0.00000\n",
            "Feature: 18, Score: 0.00000\n",
            "Feature: 19, Score: 0.00000\n",
            "Feature: 20, Score: 0.00000\n",
            "Feature: 21, Score: 0.00009\n",
            "Feature: 22, Score: 0.08256\n",
            "Feature: 23, Score: 0.09080\n",
            "Feature: 24, Score: 0.00448\n",
            "Feature: 25, Score: 0.00493\n",
            "Feature: 26, Score: 0.00144\n",
            "Feature: 27, Score: 0.00092\n",
            "Feature: 28, Score: 0.08345\n",
            "Feature: 29, Score: 0.05043\n",
            "Feature: 30, Score: 0.00391\n",
            "Feature: 31, Score: 0.00712\n",
            "Feature: 32, Score: 0.02702\n",
            "Feature: 33, Score: 0.03548\n",
            "Feature: 34, Score: 0.01773\n",
            "Feature: 35, Score: 0.08021\n",
            "Feature: 36, Score: 0.00289\n",
            "Feature: 37, Score: 0.00754\n",
            "Feature: 38, Score: 0.00514\n",
            "Feature: 39, Score: 0.00408\n",
            "Feature: 40, Score: 0.00648\n"
          ],
          "name": "stdout"
        },
        {
          "output_type": "display_data",
          "data": {
            "image/png": "[encoded data removed]",
            "text/plain": [
              "<Figure size 432x288 with 1 Axes>"
            ]
          },
          "metadata": {
            "tags": [],
            "needs_background": "light"
          }
        }
      ]
    },
    {
      "cell_type": "code",
      "metadata": {
        "id": "JpA5oLq7TQlG"
      },
      "source": [
        "#Subset Data (Feature Selection)\r\n",
        "df = df[['protocol_type', 'service', 'flag', 'count','srv_count','same_srv_rate','dst_host_srv_count','dst_host_same_srv_rate','dst_host_same_src_port_rate', 'attack_label']].copy()\r\n"
      ],
      "execution_count": 6,
      "outputs": []
    },
    {
      "cell_type": "code",
      "metadata": {
        "id": "F_4dYhheVDRv"
      },
      "source": [
        "#Split Dataset into Training-Testing Dataset\r\n",
        "X = df.iloc[:, :-1].values\r\n",
        "y = df.iloc[:, -1].values\r\n",
        "from sklearn.model_selection import train_test_split\r\n",
        "X_train, X_test, y_train, y_test = train_test_split(X, y,\r\n",
        "                                                    stratify=y, \r\n",
        "                                                    test_size=0.33)"
      ],
      "execution_count": 7,
      "outputs": []
    },
    {
      "cell_type": "code",
      "metadata": {
        "colab": {
          "base_uri": "https://localhost:8080/"
        },
        "id": "6c9XTjswaZNX",
        "outputId": "bf3a3413-a254-4f48-d30f-59aa0c2aff2c"
      },
      "source": [
        "#Train Naive Bayes\r\n",
        "from sklearn.naive_bayes import GaussianNB\r\n",
        "classifier = GaussianNB()\r\n",
        "classifier.fit(X_train, y_train)"
      ],
      "execution_count": 8,
      "outputs": [
        {
          "output_type": "execute_result",
          "data": {
            "text/plain": [
              "GaussianNB(priors=None, var_smoothing=1e-09)"
            ]
          },
          "metadata": {
            "tags": []
          },
          "execution_count": 8
        }
      ]
    },
    {
      "cell_type": "code",
      "metadata": {
        "id": "2iLisWvFak46"
      },
      "source": [
        "import numpy as np\r\n",
        "import matplotlib.pyplot as plt\r\n",
        "import seaborn as sns\r\n",
        "\r\n",
        "def make_confusion_matrix(cf,\r\n",
        "                          group_names=None,\r\n",
        "                          categories='auto',\r\n",
        "                          count=True,\r\n",
        "                          percent=False,\r\n",
        "                          cbar=True,\r\n",
        "                          xyticks=True,\r\n",
        "                          xyplotlabels=True,\r\n",
        "                          sum_stats=True,\r\n",
        "                          figsize=None,\r\n",
        "                          cmap='Blues',\r\n",
        "                          title=None):\r\n",
        "    '''\r\n",
        "    This function will make a pretty plot of an sklearn Confusion Matrix cm using a Seaborn heatmap visualization.\r\n",
        "    Arguments\r\n",
        "    ---------\r\n",
        "    cf:            confusion matrix to be passed in\r\n",
        "    group_names:   List of strings that represent the labels row by row to be shown in each square.\r\n",
        "    categories:    List of strings containing the categories to be displayed on the x,y axis. Default is 'auto'\r\n",
        "    count:         If True, show the raw number in the confusion matrix. Default is True.\r\n",
        "    normalize:     If True, show the proportions for each category. Default is True.\r\n",
        "    cbar:          If True, show the color bar. The cbar values are based off the values in the confusion matrix.\r\n",
        "                   Default is True.\r\n",
        "    xyticks:       If True, show x and y ticks. Default is True.\r\n",
        "    xyplotlabels:  If True, show 'True Label' and 'Predicted Label' on the figure. Default is True.\r\n",
        "    sum_stats:     If True, display summary statistics below the figure. Default is True.\r\n",
        "    figsize:       Tuple representing the figure size. Default will be the matplotlib rcParams value.\r\n",
        "    cmap:          Colormap of the values displayed from matplotlib.pyplot.cm. Default is 'Blues'\r\n",
        "                   See http://matplotlib.org/examples/color/colormaps_reference.html\r\n",
        "                   \r\n",
        "    title:         Title for the heatmap. Default is None.\r\n",
        "    '''\r\n",
        "\r\n",
        "\r\n",
        "    # CODE TO GENERATE TEXT INSIDE EACH SQUARE\r\n",
        "    blanks = ['' for i in range(cf.size)]\r\n",
        "\r\n",
        "    if group_names and len(group_names)==cf.size:\r\n",
        "        group_labels = [\"{}\\n\".format(value) for value in group_names]\r\n",
        "    else:\r\n",
        "        group_labels = blanks\r\n",
        "\r\n",
        "    if count:\r\n",
        "        group_counts = [\"{0:0.0f}\\n\".format(value) for value in cf.flatten()]\r\n",
        "    else:\r\n",
        "        group_counts = blanks\r\n",
        "\r\n",
        "    if percent:\r\n",
        "        group_percentages = [\"{0:.2%}\".format(value) for value in cf.flatten()/np.sum(cf)]\r\n",
        "    else:\r\n",
        "        group_percentages = blanks\r\n",
        "\r\n",
        "    box_labels = [f\"{v1}{v2}{v3}\".strip() for v1, v2, v3 in zip(group_labels,group_counts,group_percentages)]\r\n",
        "    box_labels = np.asarray(box_labels).reshape(cf.shape[0],cf.shape[1])\r\n",
        "\r\n",
        "\r\n",
        "    # CODE TO GENERATE SUMMARY STATISTICS & TEXT FOR SUMMARY STATS\r\n",
        "    if sum_stats:\r\n",
        "        #Accuracy is sum of diagonal divided by total observations\r\n",
        "        accuracy  = np.trace(cf) / float(np.sum(cf))\r\n",
        "\r\n",
        "        #if it is a binary confusion matrix, show some more stats\r\n",
        "        if len(cf)==2:\r\n",
        "            #Metrics for Binary Confusion Matrices\r\n",
        "            precision = cf[1,1] / sum(cf[:,1])\r\n",
        "            recall    = cf[1,1] / sum(cf[1,:])\r\n",
        "            f1_score  = 2*precision*recall / (precision + recall)\r\n",
        "            stats_text = \"\\n\\nAccuracy={:0.3f}\\nPrecision={:0.3f}\\nRecall={:0.3f}\\nF1 Score={:0.3f}\".format(\r\n",
        "                accuracy,precision,recall,f1_score)\r\n",
        "        else:\r\n",
        "            stats_text = \"\\n\\nAccuracy={:0.3f}\".format(accuracy)\r\n",
        "    else:\r\n",
        "        stats_text = \"\"\r\n",
        "\r\n",
        "\r\n",
        "    # SET FIGURE PARAMETERS ACCORDING TO OTHER ARGUMENTS\r\n",
        "    if figsize==None:\r\n",
        "        #Get default figure size if not set\r\n",
        "        figsize = plt.rcParams.get('figure.figsize')\r\n",
        "\r\n",
        "    if xyticks==False:\r\n",
        "        #Do not show categories if xyticks is False\r\n",
        "        categories=False\r\n",
        "\r\n",
        "\r\n",
        "    # MAKE THE HEATMAP VISUALIZATION\r\n",
        "    plt.figure(figsize=figsize)\r\n",
        "    sns.heatmap(cf,annot=box_labels,fmt=\"\",cmap=cmap,cbar=cbar,xticklabels=categories,yticklabels=categories)\r\n",
        "\r\n",
        "    if xyplotlabels:\r\n",
        "        plt.ylabel('True label')\r\n",
        "        plt.xlabel('Predicted label' + stats_text)\r\n",
        "    else:\r\n",
        "        plt.xlabel(stats_text)\r\n",
        "    \r\n",
        "    if title:\r\n",
        "        plt.title(title)"
      ],
      "execution_count": 9,
      "outputs": []
    },
    {
      "cell_type": "code",
      "metadata": {
        "colab": {
          "base_uri": "https://localhost:8080/",
          "height": 716
        },
        "id": "7jDEQCigaiIo",
        "outputId": "aeec4d46-96c8-4894-c755-c128640632f2"
      },
      "source": [
        "from sklearn.model_selection import cross_val_predict\r\n",
        "y_pred = classifier.predict(X_test)\r\n",
        "from sklearn.metrics import confusion_matrix\r\n",
        "cm = confusion_matrix(y_test, y_pred)\r\n",
        "print(make_confusion_matrix(cf = cm, categories=['Buffer Overflow', 'Ftp write', 'Guess Password', 'http tunnel', 'ipsweep', 'mailbomb', 'neptune', 'nmap', 'normal', 'pod', 'smurf' , 'teardrop', 'worm', 'udpstorm', 'xsnoop'] ,sum_stats = True, figsize = (18,10)))"
      ],
      "execution_count": 10,
      "outputs": [
        {
          "output_type": "stream",
          "text": [
            "None\n"
          ],
          "name": "stdout"
        },
        {
          "output_type": "display_data",
          "data": {
            "image/png": "[encoded data removed]",
            "text/plain": [
              "<Figure size 1296x720 with 2 Axes>"
            ]
          },
          "metadata": {
            "tags": [],
            "needs_background": "light"
          }
        }
      ]
    },
    {
      "cell_type": "code",
      "metadata": {
        "colab": {
          "base_uri": "https://localhost:8080/"
        },
        "id": "kiAt_Fe-7GUJ",
        "outputId": "aceb9f5b-4c63-48c1-e4d3-197705d8c5df"
      },
      "source": [
        "#Metrics\r\n",
        "from sklearn.metrics import recall_score\r\n",
        "from sklearn.metrics import precision_score\r\n",
        "from sklearn.metrics import f1_score\r\n",
        "\r\n",
        "precision = precision_score(y_test, y_pred,  average='macro')\r\n",
        "print('Precision: %.3f' % precision)\r\n",
        "recall = recall_score(y_test, y_pred, average='macro')\r\n",
        "print('Recall: %.3f' % recall)\r\n",
        "score = f1_score(y_test, y_pred, average='macro')\r\n",
        "print('F-Measure: %.3f' % score)"
      ],
      "execution_count": 11,
      "outputs": [
        {
          "output_type": "stream",
          "text": [
            "Precision: 0.359\n",
            "Recall: 0.696\n",
            "F-Measure: 0.400\n"
          ],
          "name": "stdout"
        }
      ]
    },
    {
      "cell_type": "code",
      "metadata": {
        "colab": {
          "base_uri": "https://localhost:8080/"
        },
        "id": "c-cSy46ea8sS",
        "outputId": "29229437-1ef8-46be-85be-b6f4bc3fd8b6"
      },
      "source": [
        "#Accuracies on Each Class\r\n",
        "cf = cm.astype('float') / cm.sum(axis=1)[:, np.newaxis]\r\n",
        "print(cf.diagonal())\r\n",
        "\r\n"
      ],
      "execution_count": 12,
      "outputs": [
        {
          "output_type": "stream",
          "text": [
            "[0.23529412 0.75       0.90541467 0.88461538 0.3359375  0.98484848\n",
            " 0.99699176 0.57692308 0.7991631  0.98275862 0.99940059 0.99388379\n",
            " 0.         0.         1.        ]\n"
          ],
          "name": "stdout"
        }
      ]
    },
    {
      "cell_type": "code",
      "metadata": {
        "colab": {
          "base_uri": "https://localhost:8080/"
        },
        "id": "JIJ6J0AFraVq",
        "outputId": "abf64b47-f3df-4b6c-b576-0aa2a1573c0a"
      },
      "source": [
        "buff = cf.diagonal()[0]\r\n",
        "x = []\r\n",
        "for i in range(0,15):\r\n",
        "  x.append(cf.diagonal()[i])\r\n",
        "\r\n",
        "\r\n",
        "print('Buffer Overflow: %.3f' % x[0])\r\n",
        "print('FTP_Write %.3f' % x[1])\r\n",
        "print('Guess Password: %.3f' % x[2])\r\n",
        "print('http tunnel: %.3f' % x[3])\r\n",
        "print('ipsweep: %.3f' % x[4])\r\n",
        "print('mailbomb: %.3f' % x[5])\r\n",
        "print('neptune: %.3f' % x[6])\r\n",
        "print('nmap: %.3f' % x[7])\r\n",
        "print('normal: %.3f' % x[8])\r\n",
        "print('pod: %.3f' % x[9])\r\n",
        "print('smurf: %.3f' % x[10])\r\n",
        "print('teardrop: %.3f' % x[11])\r\n",
        "print('worm: %.3f' % x[12])\r\n",
        "print('udpstorm: %.3f' % x[13])\r\n",
        "print('xsnoop: %.3f' % x[14])\r\n"
      ],
      "execution_count": 13,
      "outputs": [
        {
          "output_type": "stream",
          "text": [
            "Buffer Overflow: 0.235\n",
            "FTP_Write 0.750\n",
            "Guess Password: 0.905\n",
            "http tunnel: 0.885\n",
            "ipsweep: 0.336\n",
            "mailbomb: 0.985\n",
            "neptune: 0.997\n",
            "nmap: 0.577\n",
            "normal: 0.799\n",
            "pod: 0.983\n",
            "smurf: 0.999\n",
            "teardrop: 0.994\n",
            "worm: 0.000\n",
            "udpstorm: 0.000\n",
            "xsnoop: 1.000\n"
          ],
          "name": "stdout"
        }
      ]
    },
    {
      "cell_type": "code",
      "metadata": {
        "colab": {
          "base_uri": "https://localhost:8080/"
        },
        "id": "HuTo3CiKj7lv",
        "outputId": "8b86d305-178f-4954-cb8f-bc02dcec7db9"
      },
      "source": [
        "from collections import Counter\r\n",
        "\r\n",
        "#Count amount of each class in test and training\r\n",
        "counter = Counter(y_test)\r\n",
        "print(counter)\r\n",
        "counter_train  = Counter(y_train)\r\n",
        "print(counter_train)"
      ],
      "execution_count": 16,
      "outputs": [
        {
          "output_type": "stream",
          "text": [
            "Counter({'smurf.': 146811, 'neptune.': 54517, 'normal.': 52097, 'mailbomb.': 1650, 'guess_passwd.': 1459, 'ipsweep.': 512, 'teardrop.': 327, 'pod.': 116, 'nmap.': 104, 'httptunnel.': 52, 'buffer_overflow.': 17, 'ftp_write.': 4, 'worm.': 1, 'xsnoop.': 1, 'udpstorm.': 1})\n",
            "Counter({'smurf.': 298070, 'neptune.': 110685, 'normal.': 105774, 'mailbomb.': 3350, 'guess_passwd.': 2961, 'ipsweep.': 1041, 'teardrop.': 664, 'pod.': 235, 'nmap.': 211, 'httptunnel.': 106, 'buffer_overflow.': 35, 'ftp_write.': 7, 'xsnoop.': 3, 'worm.': 1, 'udpstorm.': 1})\n"
          ],
          "name": "stdout"
        }
      ]
    },
    {
      "cell_type": "code",
      "metadata": {
        "colab": {
          "base_uri": "https://localhost:8080/"
        },
        "id": "bBKuTUqObGGa",
        "outputId": "edbfd34f-8a39-4e29-b45c-0d3d1bd6e20a"
      },
      "source": [
        "from imblearn.over_sampling import SMOTE\r\n",
        "from imblearn.over_sampling import RandomOverSampler \r\n",
        "\r\n",
        "#Random Over Sampling to Duplicate\r\n",
        "strategy = { 'xsnoop.': 6, 'worm.': 6, 'udpstorm.': 6}\r\n",
        "oversample = RandomOverSampler(sampling_strategy= strategy)\r\n",
        "X_train_over, y_train_over= oversample.fit_resample(X_train, y_train)\r\n",
        "\r\n",
        "#SMOTE\r\n",
        "strategy = { 'buffer_overflow.': 20000,'ftp_write.': 60000, 'httptunnel.': 60000, 'worm.': 60000, 'udpstorm.': 60000, 'ipsweep.':40000, 'nmap.': 90000}\r\n",
        "oversample = SMOTE(sampling_strategy= strategy, k_neighbors=4)\r\n",
        "X_train_over, y_train_over= oversample.fit_resample(X_train_over, y_train_over)\r\n",
        "\r\n",
        "\r\n",
        "print(Counter(y_train_over))"
      ],
      "execution_count": 48,
      "outputs": [
        {
          "output_type": "stream",
          "text": [
            "/usr/local/lib/python3.7/dist-packages/sklearn/utils/deprecation.py:87: FutureWarning: Function safe_indexing is deprecated; safe_indexing is deprecated in version 0.22 and will be removed in version 0.24.\n",
            "  warnings.warn(msg, category=FutureWarning)\n",
            "/usr/local/lib/python3.7/dist-packages/sklearn/utils/deprecation.py:87: FutureWarning: Function safe_indexing is deprecated; safe_indexing is deprecated in version 0.22 and will be removed in version 0.24.\n",
            "  warnings.warn(msg, category=FutureWarning)\n",
            "/usr/local/lib/python3.7/dist-packages/sklearn/utils/deprecation.py:87: FutureWarning: Function safe_indexing is deprecated; safe_indexing is deprecated in version 0.22 and will be removed in version 0.24.\n",
            "  warnings.warn(msg, category=FutureWarning)\n",
            "/usr/local/lib/python3.7/dist-packages/sklearn/utils/deprecation.py:87: FutureWarning: Function safe_indexing is deprecated; safe_indexing is deprecated in version 0.22 and will be removed in version 0.24.\n",
            "  warnings.warn(msg, category=FutureWarning)\n",
            "/usr/local/lib/python3.7/dist-packages/sklearn/utils/deprecation.py:87: FutureWarning: Function safe_indexing is deprecated; safe_indexing is deprecated in version 0.22 and will be removed in version 0.24.\n",
            "  warnings.warn(msg, category=FutureWarning)\n",
            "/usr/local/lib/python3.7/dist-packages/sklearn/utils/deprecation.py:87: FutureWarning: Function safe_indexing is deprecated; safe_indexing is deprecated in version 0.22 and will be removed in version 0.24.\n",
            "  warnings.warn(msg, category=FutureWarning)\n",
            "/usr/local/lib/python3.7/dist-packages/sklearn/utils/deprecation.py:87: FutureWarning: Function safe_indexing is deprecated; safe_indexing is deprecated in version 0.22 and will be removed in version 0.24.\n",
            "  warnings.warn(msg, category=FutureWarning)\n",
            "/usr/local/lib/python3.7/dist-packages/sklearn/utils/deprecation.py:87: FutureWarning: Function safe_indexing is deprecated; safe_indexing is deprecated in version 0.22 and will be removed in version 0.24.\n",
            "  warnings.warn(msg, category=FutureWarning)\n"
          ],
          "name": "stderr"
        },
        {
          "output_type": "stream",
          "text": [
            "Counter({'smurf.': 298070, 'neptune.': 110685, 'normal.': 105774, 'nmap.': 90000, 'httptunnel.': 60000, 'worm.': 60000, 'ftp_write.': 60000, 'udpstorm.': 60000, 'ipsweep.': 40000, 'buffer_overflow.': 20000, 'mailbomb.': 3350, 'guess_passwd.': 2961, 'teardrop.': 664, 'pod.': 235, 'xsnoop.': 6})\n"
          ],
          "name": "stdout"
        }
      ]
    },
    {
      "cell_type": "code",
      "metadata": {
        "colab": {
          "base_uri": "https://localhost:8080/"
        },
        "id": "kfxWy2hXdZoG",
        "outputId": "41d982cc-2c31-4a6a-f7e6-38cd1a0b1a67"
      },
      "source": [
        "from sklearn.naive_bayes import GaussianNB\r\n",
        "classifier_over = GaussianNB()\r\n",
        "classifier_over.fit(X_train_over, y_train_over)"
      ],
      "execution_count": 49,
      "outputs": [
        {
          "output_type": "execute_result",
          "data": {
            "text/plain": [
              "GaussianNB(priors=None, var_smoothing=1e-09)"
            ]
          },
          "metadata": {
            "tags": []
          },
          "execution_count": 49
        }
      ]
    },
    {
      "cell_type": "code",
      "metadata": {
        "colab": {
          "base_uri": "https://localhost:8080/",
          "height": 716
        },
        "id": "s8Hwpsx0dfzA",
        "outputId": "f9c7b6d2-4255-4e0e-fc84-326c63c4840d"
      },
      "source": [
        "from sklearn.model_selection import cross_val_predict\r\n",
        "y_pred_over_2 = classifier_over.predict(X_test)\r\n",
        "from sklearn.metrics import confusion_matrix\r\n",
        "cm_over = confusion_matrix(y_test, y_pred_over_2)\r\n",
        "print(make_confusion_matrix(cf = cm_over, categories=['Buffer Overflow', 'Ftp write', 'Guess Password', 'http tunnel', 'ipsweep', 'mailbomb', 'neptune', 'nmap', 'normal', 'pod', 'smurf' , 'teardrop', 'worm', 'udpstorm', 'xsnoop'] ,sum_stats = True, figsize = (18,10)))"
      ],
      "execution_count": 50,
      "outputs": [
        {
          "output_type": "stream",
          "text": [
            "None\n"
          ],
          "name": "stdout"
        },
        {
          "output_type": "display_data",
          "data": {
            "image/png": "[encoded data removed]",
            "text/plain": [
              "<Figure size 1296x720 with 2 Axes>"
            ]
          },
          "metadata": {
            "tags": [],
            "needs_background": "light"
          }
        }
      ]
    },
    {
      "cell_type": "code",
      "metadata": {
        "colab": {
          "base_uri": "https://localhost:8080/"
        },
        "id": "hY3NjyVudmkv",
        "outputId": "34b1bc98-e077-4cf6-d477-4afe095c123e"
      },
      "source": [
        "#Accuracies By Column\r\n",
        "cf_over = cm_over.astype('float') / cm_over.sum(axis=1)[:, np.newaxis]\r\n",
        "print(cf_over.diagonal())\r\n"
      ],
      "execution_count": 51,
      "outputs": [
        {
          "output_type": "stream",
          "text": [
            "[0.29411765 0.75       0.89170665 0.86538462 0.57421875 0.98363636\n",
            " 0.99704679 0.60576923 0.78993032 0.98275862 0.99940059 0.99388379\n",
            " 0.         0.         1.        ]\n"
          ],
          "name": "stdout"
        }
      ]
    },
    {
      "cell_type": "code",
      "metadata": {
        "colab": {
          "base_uri": "https://localhost:8080/"
        },
        "id": "U-3tNQXRrxuA",
        "outputId": "42d2f2bc-2b55-4dca-9154-54f9668de9dd"
      },
      "source": [
        "x = []\r\n",
        "for i in range(0,15):\r\n",
        "  x.append(cf_over.diagonal()[i])\r\n",
        "\r\n",
        "\r\n",
        "print('Buffer Overflow: %.3f' % x[0])\r\n",
        "print('FTP_Write %.3f' % x[1])\r\n",
        "print('Guess Password: %.3f' % x[2])\r\n",
        "print('http tunnel: %.3f' % x[3])\r\n",
        "print('ipsweep: %.3f' % x[4])\r\n",
        "print('mailbomb: %.3f' % x[5])\r\n",
        "print('neptune: %.3f' % x[6])\r\n",
        "print('nmap: %.3f' % x[7])\r\n",
        "print('normal: %.3f' % x[8])\r\n",
        "print('pod: %.3f' % x[9])\r\n",
        "print('smurf: %.3f' % x[10])\r\n",
        "print('teardrop: %.3f' % x[11])\r\n",
        "print('worm: %.3f' % x[12])\r\n",
        "print('udpstorm: %.3f' % x[13])\r\n",
        "print('xsnoop: %.3f' % x[14])"
      ],
      "execution_count": 52,
      "outputs": [
        {
          "output_type": "stream",
          "text": [
            "Buffer Overflow: 0.294\n",
            "FTP_Write 0.750\n",
            "Guess Password: 0.892\n",
            "http tunnel: 0.865\n",
            "ipsweep: 0.574\n",
            "mailbomb: 0.984\n",
            "neptune: 0.997\n",
            "nmap: 0.606\n",
            "normal: 0.790\n",
            "pod: 0.983\n",
            "smurf: 0.999\n",
            "teardrop: 0.994\n",
            "worm: 0.000\n",
            "udpstorm: 0.000\n",
            "xsnoop: 1.000\n"
          ],
          "name": "stdout"
        }
      ]
    },
    {
      "cell_type": "code",
      "metadata": {
        "colab": {
          "base_uri": "https://localhost:8080/"
        },
        "id": "J0sToOThgMtQ",
        "outputId": "2e5a5318-85c2-42da-ceea-40c8ad332fa6"
      },
      "source": [
        "#Metrics\r\n",
        "from sklearn.metrics import precision_score\r\n",
        "from sklearn.metrics import f1_score\r\n",
        "\r\n",
        "precision = precision_score(y_test, y_pred_over_2,  average='macro')\r\n",
        "print('Precision: %.3f' % precision)\r\n",
        "recall = recall_score(y_test, y_pred_over_2, average='macro')\r\n",
        "print('Recall: %.3f' % recall)\r\n",
        "score = f1_score(y_test, y_pred_over_2, average='macro')\r\n",
        "print('F-Measure: %.3f' % score)"
      ],
      "execution_count": 53,
      "outputs": [
        {
          "output_type": "stream",
          "text": [
            "Precision: 0.362\n",
            "Recall: 0.715\n",
            "F-Measure: 0.409\n"
          ],
          "name": "stdout"
        }
      ]
    }
  ]
}
