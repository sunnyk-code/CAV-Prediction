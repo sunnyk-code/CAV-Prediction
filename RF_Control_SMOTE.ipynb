{
  "nbformat": 4,
  "nbformat_minor": 0,
  "metadata": {
    "colab": {
      "name": "RF_Control/SMOTE.ipynb",
      "provenance": []
    },
    "kernelspec": {
      "name": "python3",
      "display_name": "Python 3"
    }
  },
  "cells": [
    {
      "cell_type": "markdown",
      "metadata": {
        "id": "1n_akHQc-HH1"
      },
      "source": [
        "Loading the Dataset\r\n"
      ]
    },
    {
      "cell_type": "code",
      "metadata": {
        "colab": {
          "base_uri": "https://localhost:8080/"
        },
        "id": "HOiTYMR1GbCN",
        "outputId": "ed5e775d-c4b1-4660-ceb5-2e49713b3f84"
      },
      "source": [
        "#Mount Gooogle Drive (Location of Dataset)\r\n",
        "from google.colab import drive\r\n",
        "drive.mount('/content/drive')"
      ],
      "execution_count": 3,
      "outputs": [
        {
          "output_type": "stream",
          "text": [
            "Mounted at /content/drive\n"
          ],
          "name": "stdout"
        }
      ]
    },
    {
      "cell_type": "code",
      "metadata": {
        "colab": {
          "base_uri": "https://localhost:8080/"
        },
        "id": "kxy4ThUSG1dr",
        "outputId": "00e8f515-ec38-4bbe-c001-8f4f94316afc"
      },
      "source": [
        "#Read in CAV Cybersecurity\r\n",
        "import pandas as pd\r\n",
        "from pandas import read_excel\r\n",
        "df = read_excel('/content/drive/My Drive/CAV-KDD.xlsx')\r\n",
        "print(df.head())"
      ],
      "execution_count": 4,
      "outputs": [
        {
          "output_type": "stream",
          "text": [
            "   duration protocol_type  ... dst_host_srv_rerror_rate attack_label\n",
            "0         0           udp  ...                      0.0      normal.\n",
            "1         0           udp  ...                      0.0      normal.\n",
            "2         0           udp  ...                      0.0      normal.\n",
            "3         0           udp  ...                      0.0      normal.\n",
            "4         0           udp  ...                      0.0      normal.\n",
            "\n",
            "[5 rows x 42 columns]\n"
          ],
          "name": "stdout"
        }
      ]
    },
    {
      "cell_type": "markdown",
      "metadata": {
        "id": "5vLPY6oJCD3G"
      },
      "source": [
        "# Label Encoding\r\n",
        "\r\n"
      ]
    },
    {
      "cell_type": "code",
      "metadata": {
        "colab": {
          "base_uri": "https://localhost:8080/"
        },
        "id": "nvWDlZNbuE_D",
        "outputId": "bab58d6d-0fda-49f1-e545-98ea5be61da3"
      },
      "source": [
        "print(df.iloc[1500])\r\n",
        "print(df.iloc[1])\r\n",
        "print(df.iloc[171000])"
      ],
      "execution_count": 5,
      "outputs": [
        {
          "output_type": "stream",
          "text": [
            "duration                            0\n",
            "protocol_type                    icmp\n",
            "service                         ecr_i\n",
            "flag                               SF\n",
            "src_bytes                        1032\n",
            "dst_bytes                           0\n",
            "land                                0\n",
            "wrong_fragment                      0\n",
            "urgent                              0\n",
            "hot                                 0\n",
            "num_failed_logins                   0\n",
            "logged_in                           0\n",
            "num_compromised                     0\n",
            "root_shell                          0\n",
            "su_attempted                        0\n",
            "num_root                            0\n",
            "num_file_creations                  0\n",
            "num_shells                          0\n",
            "num_access_files                    0\n",
            "num_outbound_cmds                   0\n",
            "is_host_login                       0\n",
            "is_guest_login                      0\n",
            "count                             509\n",
            "srv_count                         509\n",
            "serror_rate                         0\n",
            "srv_serror_rate                     0\n",
            "rerror_rate                         0\n",
            "srv_rerror_rate                     0\n",
            "same_srv_rate                       1\n",
            "diff_srv_rate                       0\n",
            "srv_diff_host_rate                  0\n",
            "dst_host_count                    255\n",
            "dst_host_srv_count                255\n",
            "dst_host_same_srv_rate              1\n",
            "dst_host_diff_srv_rate              0\n",
            "dst_host_same_src_port_rate         1\n",
            "dst_host_srv_diff_host_rate         0\n",
            "dst_host_serror_rate                0\n",
            "dst_host_srv_serror_rate            0\n",
            "dst_host_rerror_rate                0\n",
            "dst_host_srv_rerror_rate            0\n",
            "attack_label                   smurf.\n",
            "Name: 1500, dtype: object\n",
            "duration                             0\n",
            "protocol_type                      udp\n",
            "service                        private\n",
            "flag                                SF\n",
            "src_bytes                          105\n",
            "dst_bytes                          146\n",
            "land                                 0\n",
            "wrong_fragment                       0\n",
            "urgent                               0\n",
            "hot                                  0\n",
            "num_failed_logins                    0\n",
            "logged_in                            0\n",
            "num_compromised                      0\n",
            "root_shell                           0\n",
            "su_attempted                         0\n",
            "num_root                             0\n",
            "num_file_creations                   0\n",
            "num_shells                           0\n",
            "num_access_files                     0\n",
            "num_outbound_cmds                    0\n",
            "is_host_login                        0\n",
            "is_guest_login                       0\n",
            "count                                1\n",
            "srv_count                            1\n",
            "serror_rate                          0\n",
            "srv_serror_rate                      0\n",
            "rerror_rate                          0\n",
            "srv_rerror_rate                      0\n",
            "same_srv_rate                        1\n",
            "diff_srv_rate                        0\n",
            "srv_diff_host_rate                   0\n",
            "dst_host_count                     255\n",
            "dst_host_srv_count                 254\n",
            "dst_host_same_srv_rate               1\n",
            "dst_host_diff_srv_rate            0.01\n",
            "dst_host_same_src_port_rate          0\n",
            "dst_host_srv_diff_host_rate          0\n",
            "dst_host_serror_rate                 0\n",
            "dst_host_srv_serror_rate             0\n",
            "dst_host_rerror_rate                 0\n",
            "dst_host_srv_rerror_rate             0\n",
            "attack_label                   normal.\n",
            "Name: 1, dtype: object\n",
            "duration                            0\n",
            "protocol_type                    icmp\n",
            "service                         ecr_i\n",
            "flag                               SF\n",
            "src_bytes                        1032\n",
            "dst_bytes                           0\n",
            "land                                0\n",
            "wrong_fragment                      0\n",
            "urgent                              0\n",
            "hot                                 0\n",
            "num_failed_logins                   0\n",
            "logged_in                           0\n",
            "num_compromised                     0\n",
            "root_shell                          0\n",
            "su_attempted                        0\n",
            "num_root                            0\n",
            "num_file_creations                  0\n",
            "num_shells                          0\n",
            "num_access_files                    0\n",
            "num_outbound_cmds                   0\n",
            "is_host_login                       0\n",
            "is_guest_login                      0\n",
            "count                             103\n",
            "srv_count                         103\n",
            "serror_rate                         0\n",
            "srv_serror_rate                     0\n",
            "rerror_rate                         0\n",
            "srv_rerror_rate                     0\n",
            "same_srv_rate                       1\n",
            "diff_srv_rate                       0\n",
            "srv_diff_host_rate                  0\n",
            "dst_host_count                    255\n",
            "dst_host_srv_count                255\n",
            "dst_host_same_srv_rate              1\n",
            "dst_host_diff_srv_rate              0\n",
            "dst_host_same_src_port_rate         1\n",
            "dst_host_srv_diff_host_rate         0\n",
            "dst_host_serror_rate                0\n",
            "dst_host_srv_serror_rate            0\n",
            "dst_host_rerror_rate                0\n",
            "dst_host_srv_rerror_rate            0\n",
            "attack_label                   smurf.\n",
            "Name: 171000, dtype: object\n"
          ],
          "name": "stdout"
        }
      ]
    },
    {
      "cell_type": "code",
      "metadata": {
        "id": "SZJQyA0tuG8K"
      },
      "source": [
        "cat_features=['protocol_type', 'service', 'flag']\r\n",
        "\r\n",
        "from sklearn.preprocessing import LabelEncoder\r\n",
        "\r\n",
        "le=LabelEncoder()\r\n",
        "\r\n",
        "for col in cat_features:\r\n",
        "    if col in df.columns:\r\n",
        "        i = df.columns.get_loc(col)\r\n",
        "        df.iloc[:,i] = df.apply(lambda i:le.fit_transform(i.astype(str)), axis=0, result_type='expand')"
      ],
      "execution_count": 6,
      "outputs": []
    },
    {
      "cell_type": "code",
      "metadata": {
        "colab": {
          "base_uri": "https://localhost:8080/"
        },
        "id": "wkThohH5uIiQ",
        "outputId": "2e011fe9-16f4-4e58-ef29-db626d0a717f"
      },
      "source": [
        "print(df.iloc[1500])\r\n",
        "print(df.iloc[1])\r\n",
        "print(df.iloc[171000])"
      ],
      "execution_count": 7,
      "outputs": [
        {
          "output_type": "stream",
          "text": [
            "duration                            0\n",
            "protocol_type                       0\n",
            "service                            14\n",
            "flag                                9\n",
            "src_bytes                        1032\n",
            "dst_bytes                           0\n",
            "land                                0\n",
            "wrong_fragment                      0\n",
            "urgent                              0\n",
            "hot                                 0\n",
            "num_failed_logins                   0\n",
            "logged_in                           0\n",
            "num_compromised                     0\n",
            "root_shell                          0\n",
            "su_attempted                        0\n",
            "num_root                            0\n",
            "num_file_creations                  0\n",
            "num_shells                          0\n",
            "num_access_files                    0\n",
            "num_outbound_cmds                   0\n",
            "is_host_login                       0\n",
            "is_guest_login                      0\n",
            "count                             509\n",
            "srv_count                         509\n",
            "serror_rate                         0\n",
            "srv_serror_rate                     0\n",
            "rerror_rate                         0\n",
            "srv_rerror_rate                     0\n",
            "same_srv_rate                       1\n",
            "diff_srv_rate                       0\n",
            "srv_diff_host_rate                  0\n",
            "dst_host_count                    255\n",
            "dst_host_srv_count                255\n",
            "dst_host_same_srv_rate              1\n",
            "dst_host_diff_srv_rate              0\n",
            "dst_host_same_src_port_rate         1\n",
            "dst_host_srv_diff_host_rate         0\n",
            "dst_host_serror_rate                0\n",
            "dst_host_srv_serror_rate            0\n",
            "dst_host_rerror_rate                0\n",
            "dst_host_srv_rerror_rate            0\n",
            "attack_label                   smurf.\n",
            "Name: 1500, dtype: object\n",
            "duration                             0\n",
            "protocol_type                        2\n",
            "service                             45\n",
            "flag                                 9\n",
            "src_bytes                          105\n",
            "dst_bytes                          146\n",
            "land                                 0\n",
            "wrong_fragment                       0\n",
            "urgent                               0\n",
            "hot                                  0\n",
            "num_failed_logins                    0\n",
            "logged_in                            0\n",
            "num_compromised                      0\n",
            "root_shell                           0\n",
            "su_attempted                         0\n",
            "num_root                             0\n",
            "num_file_creations                   0\n",
            "num_shells                           0\n",
            "num_access_files                     0\n",
            "num_outbound_cmds                    0\n",
            "is_host_login                        0\n",
            "is_guest_login                       0\n",
            "count                                1\n",
            "srv_count                            1\n",
            "serror_rate                          0\n",
            "srv_serror_rate                      0\n",
            "rerror_rate                          0\n",
            "srv_rerror_rate                      0\n",
            "same_srv_rate                        1\n",
            "diff_srv_rate                        0\n",
            "srv_diff_host_rate                   0\n",
            "dst_host_count                     255\n",
            "dst_host_srv_count                 254\n",
            "dst_host_same_srv_rate               1\n",
            "dst_host_diff_srv_rate            0.01\n",
            "dst_host_same_src_port_rate          0\n",
            "dst_host_srv_diff_host_rate          0\n",
            "dst_host_serror_rate                 0\n",
            "dst_host_srv_serror_rate             0\n",
            "dst_host_rerror_rate                 0\n",
            "dst_host_srv_rerror_rate             0\n",
            "attack_label                   normal.\n",
            "Name: 1, dtype: object\n",
            "duration                            0\n",
            "protocol_type                       0\n",
            "service                            14\n",
            "flag                                9\n",
            "src_bytes                        1032\n",
            "dst_bytes                           0\n",
            "land                                0\n",
            "wrong_fragment                      0\n",
            "urgent                              0\n",
            "hot                                 0\n",
            "num_failed_logins                   0\n",
            "logged_in                           0\n",
            "num_compromised                     0\n",
            "root_shell                          0\n",
            "su_attempted                        0\n",
            "num_root                            0\n",
            "num_file_creations                  0\n",
            "num_shells                          0\n",
            "num_access_files                    0\n",
            "num_outbound_cmds                   0\n",
            "is_host_login                       0\n",
            "is_guest_login                      0\n",
            "count                             103\n",
            "srv_count                         103\n",
            "serror_rate                         0\n",
            "srv_serror_rate                     0\n",
            "rerror_rate                         0\n",
            "srv_rerror_rate                     0\n",
            "same_srv_rate                       1\n",
            "diff_srv_rate                       0\n",
            "srv_diff_host_rate                  0\n",
            "dst_host_count                    255\n",
            "dst_host_srv_count                255\n",
            "dst_host_same_srv_rate              1\n",
            "dst_host_diff_srv_rate              0\n",
            "dst_host_same_src_port_rate         1\n",
            "dst_host_srv_diff_host_rate         0\n",
            "dst_host_serror_rate                0\n",
            "dst_host_srv_serror_rate            0\n",
            "dst_host_rerror_rate                0\n",
            "dst_host_srv_rerror_rate            0\n",
            "attack_label                   smurf.\n",
            "Name: 171000, dtype: object\n"
          ],
          "name": "stdout"
        }
      ]
    },
    {
      "cell_type": "markdown",
      "metadata": {
        "id": "EUYQiikTB6Bm"
      },
      "source": [
        "# Feature Selection\r\n"
      ]
    },
    {
      "cell_type": "code",
      "metadata": {
        "id": "VgNTC-S5emJh",
        "colab": {
          "base_uri": "https://localhost:8080/",
          "height": 962
        },
        "outputId": "d4deb436-85ec-4527-eb31-a32a4b098f1c"
      },
      "source": [
        "from sklearn.feature_selection import SelectKBest\r\n",
        "from sklearn.feature_selection import chi2\r\n",
        "from sklearn.feature_selection import VarianceThreshold\r\n",
        "from sklearn.ensemble import RandomForestClassifier\r\n",
        "import matplotlib.pyplot as plt\r\n",
        "\r\n",
        "X = df.iloc[:, :-1].values\r\n",
        "y = df.iloc[:, -1].values\r\n",
        "model = RandomForestClassifier()\r\n",
        "# fit the model\r\n",
        "model.fit(X, y)\r\n",
        "# get importance\r\n",
        "importance = model.feature_importances_\r\n",
        "# summarize feature importance\r\n",
        "for i,v in enumerate(importance):\r\n",
        "\tprint('Feature: %0d, Score: %.5f' % (i,v))\r\n",
        "# plot feature importance\r\n",
        "plt.bar([x for x in range(len(importance))], importance)\r\n",
        "plt.show()"
      ],
      "execution_count": 8,
      "outputs": [
        {
          "output_type": "stream",
          "text": [
            "Feature: 0, Score: 0.00462\n",
            "Feature: 1, Score: 0.08467\n",
            "Feature: 2, Score: 0.07350\n",
            "Feature: 3, Score: 0.03554\n",
            "Feature: 4, Score: 0.09415\n",
            "Feature: 5, Score: 0.02519\n",
            "Feature: 6, Score: 0.00000\n",
            "Feature: 7, Score: 0.00192\n",
            "Feature: 8, Score: 0.00001\n",
            "Feature: 9, Score: 0.00007\n",
            "Feature: 10, Score: 0.00125\n",
            "Feature: 11, Score: 0.01303\n",
            "Feature: 12, Score: 0.00002\n",
            "Feature: 13, Score: 0.00003\n",
            "Feature: 14, Score: 0.00000\n",
            "Feature: 15, Score: 0.00001\n",
            "Feature: 16, Score: 0.00002\n",
            "Feature: 17, Score: 0.00000\n",
            "Feature: 18, Score: 0.00001\n",
            "Feature: 19, Score: 0.00000\n",
            "Feature: 20, Score: 0.00000\n",
            "Feature: 21, Score: 0.00006\n",
            "Feature: 22, Score: 0.14611\n",
            "Feature: 23, Score: 0.11342\n",
            "Feature: 24, Score: 0.00675\n",
            "Feature: 25, Score: 0.00567\n",
            "Feature: 26, Score: 0.00352\n",
            "Feature: 27, Score: 0.00211\n",
            "Feature: 28, Score: 0.07142\n",
            "Feature: 29, Score: 0.06093\n",
            "Feature: 30, Score: 0.00290\n",
            "Feature: 31, Score: 0.00935\n",
            "Feature: 32, Score: 0.04258\n",
            "Feature: 33, Score: 0.03418\n",
            "Feature: 34, Score: 0.02386\n",
            "Feature: 35, Score: 0.10864\n",
            "Feature: 36, Score: 0.00736\n",
            "Feature: 37, Score: 0.01711\n",
            "Feature: 38, Score: 0.00096\n",
            "Feature: 39, Score: 0.00706\n",
            "Feature: 40, Score: 0.00198\n"
          ],
          "name": "stdout"
        },
        {
          "output_type": "display_data",
          "data": {
            "image/png": "[encoded data removed]",
            "text/plain": [
              "<Figure size 432x288 with 1 Axes>"
            ]
          },
          "metadata": {
            "tags": [],
            "needs_background": "light"
          }
        }
      ]
    },
    {
      "cell_type": "code",
      "metadata": {
        "id": "AtRIByhFHQXc"
      },
      "source": [
        "df = df[['protocol_type', 'service', 'flag', 'count','srv_count','same_srv_rate','dst_host_srv_count','dst_host_same_srv_rate','dst_host_same_src_port_rate', 'attack_label']].copy()\r\n"
      ],
      "execution_count": 9,
      "outputs": []
    },
    {
      "cell_type": "markdown",
      "metadata": {
        "id": "pgoy0NSPCId9"
      },
      "source": [
        "Separation of Dataset\r\n"
      ]
    },
    {
      "cell_type": "code",
      "metadata": {
        "id": "Rg8w25WJuZaf"
      },
      "source": [
        "X = df.iloc[:, :-1].values\r\n",
        "y = df.iloc[:, -1].values"
      ],
      "execution_count": 10,
      "outputs": []
    },
    {
      "cell_type": "code",
      "metadata": {
        "id": "M-MrSmNDue-p"
      },
      "source": [
        "from sklearn.model_selection import train_test_split\r\n",
        "X_train, X_test, y_train, y_test = train_test_split(X, y,\r\n",
        "                                                    stratify=y, \r\n",
        "                                                    test_size=0.33)"
      ],
      "execution_count": 51,
      "outputs": []
    },
    {
      "cell_type": "code",
      "metadata": {
        "colab": {
          "base_uri": "https://localhost:8080/"
        },
        "id": "2hiS9jlagZI-",
        "outputId": "a2f3ca4d-c9c1-4e78-e4dc-ba91f4c63ac5"
      },
      "source": [
        "import numpy as np\r\n",
        "from sklearn.model_selection import RandomizedSearchCV\r\n",
        "n_estimators = [int(x) for x in np.linspace(start = 5, stop = 200, num = 5)]\r\n",
        "random_grid = {'n_estimators': n_estimators}\r\n",
        "print(random_grid)\r\n",
        "# Use the random grid to search for best hyperparameters\r\n",
        "# First create the base model to tune\r\n",
        "rf = RandomForestClassifier()\r\n",
        "# Random search of parameters, using 3 fold cross validation, \r\n",
        "# search across 100 different combinations, and use all available cores\r\n",
        "rf_random = RandomizedSearchCV(estimator = rf, param_distributions = random_grid, n_iter = 5, cv = 3, verbose=2, random_state=42, n_jobs = -1)\r\n",
        "# Fit the random search model\r\n",
        "rf_random.fit(X_train, y_train)\r\n",
        "rf_random.best_params_"
      ],
      "execution_count": null,
      "outputs": [
        {
          "output_type": "stream",
          "text": [
            "{'n_estimators': [5, 53, 102, 151, 200]}\n",
            "Fitting 3 folds for each of 5 candidates, totalling 15 fits\n"
          ],
          "name": "stdout"
        },
        {
          "output_type": "stream",
          "text": [
            "/usr/local/lib/python3.6/dist-packages/sklearn/model_selection/_split.py:667: UserWarning: The least populated class in y has only 1 members, which is less than n_splits=3.\n",
            "  % (min_groups, self.n_splits)), UserWarning)\n",
            "[Parallel(n_jobs=-1)]: Using backend LokyBackend with 2 concurrent workers.\n",
            "[Parallel(n_jobs=-1)]: Done  15 out of  15 | elapsed:  6.7min finished\n"
          ],
          "name": "stderr"
        },
        {
          "output_type": "execute_result",
          "data": {
            "text/plain": [
              "{'n_estimators': 151}"
            ]
          },
          "metadata": {
            "tags": []
          },
          "execution_count": 11
        }
      ]
    },
    {
      "cell_type": "code",
      "metadata": {
        "colab": {
          "base_uri": "https://localhost:8080/"
        },
        "id": "GmngU2raujdl",
        "outputId": "1a7b5b07-e8e2-44b0-d10b-a9d75db98ec1"
      },
      "source": [
        "from sklearn.ensemble import RandomForestClassifier\r\n",
        "classifier = RandomForestClassifier(n_estimators = 10, criterion = 'entropy', random_state = 0)\r\n",
        "classifier.fit(X_train, y_train)"
      ],
      "execution_count": 52,
      "outputs": [
        {
          "output_type": "execute_result",
          "data": {
            "text/plain": [
              "RandomForestClassifier(bootstrap=True, ccp_alpha=0.0, class_weight=None,\n",
              "                       criterion='entropy', max_depth=None, max_features='auto',\n",
              "                       max_leaf_nodes=None, max_samples=None,\n",
              "                       min_impurity_decrease=0.0, min_impurity_split=None,\n",
              "                       min_samples_leaf=1, min_samples_split=2,\n",
              "                       min_weight_fraction_leaf=0.0, n_estimators=10,\n",
              "                       n_jobs=None, oob_score=False, random_state=0, verbose=0,\n",
              "                       warm_start=False)"
            ]
          },
          "metadata": {
            "tags": []
          },
          "execution_count": 52
        }
      ]
    },
    {
      "cell_type": "code",
      "metadata": {
        "id": "o7WOXQ3Du3fM"
      },
      "source": [
        "import numpy as np\r\n",
        "import matplotlib.pyplot as plt\r\n",
        "import seaborn as sns\r\n",
        "\r\n",
        "def make_confusion_matrix(cf,\r\n",
        "                          group_names=None,\r\n",
        "                          categories='auto',\r\n",
        "                          count=True,\r\n",
        "                          percent=False,\r\n",
        "                          cbar=True,\r\n",
        "                          xyticks=True,\r\n",
        "                          xyplotlabels=True,\r\n",
        "                          sum_stats=True,\r\n",
        "                          figsize=None,\r\n",
        "                          cmap='Blues',\r\n",
        "                          title=None):\r\n",
        "    '''\r\n",
        "    This function will make a pretty plot of an sklearn Confusion Matrix cm using a Seaborn heatmap visualization.\r\n",
        "    Arguments\r\n",
        "    ---------\r\n",
        "    cf:            confusion matrix to be passed in\r\n",
        "    group_names:   List of strings that represent the labels row by row to be shown in each square.\r\n",
        "    categories:    List of strings containing the categories to be displayed on the x,y axis. Default is 'auto'\r\n",
        "    count:         If True, show the raw number in the confusion matrix. Default is True.\r\n",
        "    normalize:     If True, show the proportions for each category. Default is True.\r\n",
        "    cbar:          If True, show the color bar. The cbar values are based off the values in the confusion matrix.\r\n",
        "                   Default is True.\r\n",
        "    xyticks:       If True, show x and y ticks. Default is True.\r\n",
        "    xyplotlabels:  If True, show 'True Label' and 'Predicted Label' on the figure. Default is True.\r\n",
        "    sum_stats:     If True, display summary statistics below the figure. Default is True.\r\n",
        "    figsize:       Tuple representing the figure size. Default will be the matplotlib rcParams value.\r\n",
        "    cmap:          Colormap of the values displayed from matplotlib.pyplot.cm. Default is 'Blues'\r\n",
        "                   See http://matplotlib.org/examples/color/colormaps_reference.html\r\n",
        "                   \r\n",
        "    title:         Title for the heatmap. Default is None.\r\n",
        "    '''\r\n",
        "\r\n",
        "\r\n",
        "    # CODE TO GENERATE TEXT INSIDE EACH SQUARE\r\n",
        "    blanks = ['' for i in range(cf.size)]\r\n",
        "\r\n",
        "    if group_names and len(group_names)==cf.size:\r\n",
        "        group_labels = [\"{}\\n\".format(value) for value in group_names]\r\n",
        "    else:\r\n",
        "        group_labels = blanks\r\n",
        "\r\n",
        "    if count:\r\n",
        "        group_counts = [\"{0:0.0f}\\n\".format(value) for value in cf.flatten()]\r\n",
        "    else:\r\n",
        "        group_counts = blanks\r\n",
        "\r\n",
        "    if percent:\r\n",
        "        group_percentages = [\"{0:.2%}\".format(value) for value in cf.flatten()/np.sum(cf)]\r\n",
        "    else:\r\n",
        "        group_percentages = blanks\r\n",
        "\r\n",
        "    box_labels = [f\"{v1}{v2}{v3}\".strip() for v1, v2, v3 in zip(group_labels,group_counts,group_percentages)]\r\n",
        "    box_labels = np.asarray(box_labels).reshape(cf.shape[0],cf.shape[1])\r\n",
        "\r\n",
        "\r\n",
        "    # CODE TO GENERATE SUMMARY STATISTICS & TEXT FOR SUMMARY STATS\r\n",
        "    if sum_stats:\r\n",
        "        #Accuracy is sum of diagonal divided by total observations\r\n",
        "        accuracy  = np.trace(cf) / float(np.sum(cf))\r\n",
        "\r\n",
        "        #if it is a binary confusion matrix, show some more stats\r\n",
        "        if len(cf)==2:\r\n",
        "            #Metrics for Binary Confusion Matrices\r\n",
        "            precision = cf[1,1] / sum(cf[:,1])\r\n",
        "            recall    = cf[1,1] / sum(cf[1,:])\r\n",
        "            f1_score  = 2*precision*recall / (precision + recall)\r\n",
        "            stats_text = \"\\n\\nAccuracy={:0.3f}\\nPrecision={:0.3f}\\nRecall={:0.3f}\\nF1 Score={:0.3f}\".format(\r\n",
        "                accuracy,precision,recall,f1_score)\r\n",
        "        else:\r\n",
        "            stats_text = \"\\n\\nAccuracy={:0.3f}\".format(accuracy)\r\n",
        "    else:\r\n",
        "        stats_text = \"\"\r\n",
        "\r\n",
        "\r\n",
        "    # SET FIGURE PARAMETERS ACCORDING TO OTHER ARGUMENTS\r\n",
        "    if figsize==None:\r\n",
        "        #Get default figure size if not set\r\n",
        "        figsize = plt.rcParams.get('figure.figsize')\r\n",
        "\r\n",
        "    if xyticks==False:\r\n",
        "        #Do not show categories if xyticks is False\r\n",
        "        categories=False\r\n",
        "\r\n",
        "\r\n",
        "    # MAKE THE HEATMAP VISUALIZATION\r\n",
        "    plt.figure(figsize=figsize)\r\n",
        "    sns.heatmap(cf,annot=box_labels,fmt=\"\",cmap=cmap,cbar=cbar,xticklabels=categories,yticklabels=categories)\r\n",
        "\r\n",
        "    if xyplotlabels:\r\n",
        "        plt.ylabel('True label')\r\n",
        "        plt.xlabel('Predicted label' + stats_text)\r\n",
        "    else:\r\n",
        "        plt.xlabel(stats_text)\r\n",
        "    \r\n",
        "    if title:\r\n",
        "        plt.title(title)"
      ],
      "execution_count": 53,
      "outputs": []
    },
    {
      "cell_type": "code",
      "metadata": {
        "colab": {
          "base_uri": "https://localhost:8080/"
        },
        "id": "zZdxRK_1yy5J",
        "outputId": "ce71c659-c1d6-4c3d-be6b-8bc66f543403"
      },
      "source": [
        "from collections import Counter\r\n",
        "\r\n",
        "counter = Counter(y_test)\r\n",
        "print(counter)\r\n",
        "counter_train  = Counter(y_train)\r\n",
        "print(counter_train)"
      ],
      "execution_count": 14,
      "outputs": [
        {
          "output_type": "stream",
          "text": [
            "Counter({'smurf.': 146811, 'neptune.': 54517, 'normal.': 52097, 'mailbomb.': 1650, 'guess_passwd.': 1459, 'ipsweep.': 512, 'teardrop.': 327, 'pod.': 116, 'nmap.': 104, 'httptunnel.': 52, 'buffer_overflow.': 17, 'ftp_write.': 4, 'xsnoop.': 1, 'udpstorm.': 1, 'worm.': 1})\n",
            "Counter({'smurf.': 298070, 'neptune.': 110685, 'normal.': 105774, 'mailbomb.': 3350, 'guess_passwd.': 2961, 'ipsweep.': 1041, 'teardrop.': 664, 'pod.': 235, 'nmap.': 211, 'httptunnel.': 106, 'buffer_overflow.': 35, 'ftp_write.': 7, 'xsnoop.': 3, 'udpstorm.': 1, 'worm.': 1})\n"
          ],
          "name": "stdout"
        }
      ]
    },
    {
      "cell_type": "code",
      "metadata": {
        "colab": {
          "base_uri": "https://localhost:8080/",
          "height": 716
        },
        "id": "qO5OY-2bu4Ie",
        "outputId": "a2b24a09-720c-4fff-b162-18339b468072"
      },
      "source": [
        "y_pred = classifier.predict(X_test)\r\n",
        "from sklearn.metrics import confusion_matrix\r\n",
        "cm = confusion_matrix(y_test, y_pred)\r\n",
        "print(make_confusion_matrix(cf = cm, categories=['Buffer Overflow', 'Ftp write', 'Guess Password', 'http tunnel', 'ipsweep', 'mailbomb', 'neptune', 'nmap', 'normal', 'pod', 'smurf' , 'teardrop', 'worm', 'udpstorm', 'xsnoop'] ,sum_stats = True, figsize = (18,10)))"
      ],
      "execution_count": 85,
      "outputs": [
        {
          "output_type": "stream",
          "text": [
            "None\n"
          ],
          "name": "stdout"
        },
        {
          "output_type": "display_data",
          "data": {
            "image/png": "[encoded data removed]",
            "text/plain": [
              "<Figure size 1296x720 with 2 Axes>"
            ]
          },
          "metadata": {
            "tags": [],
            "needs_background": "light"
          }
        }
      ]
    },
    {
      "cell_type": "code",
      "metadata": {
        "colab": {
          "base_uri": "https://localhost:8080/"
        },
        "id": "nYKN7v11sh6T",
        "outputId": "65b890c9-c881-4750-c30b-82df95ca2794"
      },
      "source": [
        "#Metrics\r\n",
        "from sklearn.metrics import recall_score\r\n",
        "from sklearn.metrics import precision_score\r\n",
        "from sklearn.metrics import f1_score\r\n",
        "\r\n",
        "precision = precision_score(y_test, y_pred,  average='macro', zero_division=0)\r\n",
        "print('Precision: %.3f' % precision)\r\n",
        "recall = recall_score(y_test, y_pred, average='macro')\r\n",
        "print('Recall: %.3f' % recall)\r\n",
        "score = f1_score(y_test, y_pred, average='macro')\r\n",
        "print('F-Measure: %.3f' % score)"
      ],
      "execution_count": 86,
      "outputs": [
        {
          "output_type": "stream",
          "text": [
            "Precision: 0.744\n",
            "Recall: 0.701\n",
            "F-Measure: 0.710\n"
          ],
          "name": "stdout"
        }
      ]
    },
    {
      "cell_type": "code",
      "metadata": {
        "colab": {
          "base_uri": "https://localhost:8080/"
        },
        "id": "NIT-yuIzvBd-",
        "outputId": "74b3e016-c8b8-4450-bb2a-8d26ffe8afdc"
      },
      "source": [
        "cf = cm.astype('float') / cm.sum(axis=1)[:, np.newaxis]\r\n",
        "print(cf.diagonal())\r\n",
        "\r\n"
      ],
      "execution_count": 55,
      "outputs": [
        {
          "output_type": "stream",
          "text": [
            "[0.05882353 0.         0.98080877 0.92307692 0.921875   0.99818182\n",
            " 0.9998716  0.76923077 0.99817648 0.87931034 1.         0.98470948\n",
            " 0.         0.         1.        ]\n"
          ],
          "name": "stdout"
        }
      ]
    },
    {
      "cell_type": "code",
      "metadata": {
        "colab": {
          "base_uri": "https://localhost:8080/"
        },
        "id": "XfzSJaJ2YAfO",
        "outputId": "530f53d5-5e87-4ed5-8369-340fac8e6b66"
      },
      "source": [
        "buff = cf.diagonal()[0]\r\n",
        "x = []\r\n",
        "for i in range(0,15):\r\n",
        "  x.append(cf.diagonal()[i])\r\n",
        "\r\n",
        "\r\n",
        "print('Buffer Overflow: %.3f' % x[0])\r\n",
        "print('FTP_Write %.3f' % x[1])\r\n",
        "print('Guess Password: %.3f' % x[2])\r\n",
        "print('http tunnel: %.3f' % x[3])\r\n",
        "print('ipsweep: %.3f' % x[4])\r\n",
        "print('mailbomb: %.3f' % x[5])\r\n",
        "print('neptune: %.3f' % x[6])\r\n",
        "print('nmap: %.3f' % x[7])\r\n",
        "print('normal: %.3f' % x[8])\r\n",
        "print('pod: %.3f' % x[9])\r\n",
        "print('smurf: %.3f' % x[10])\r\n",
        "print('teardrop: %.3f' % x[11])\r\n",
        "print('worm: %.3f' % x[12])\r\n",
        "print('udpstorm: %.3f' % x[13])\r\n",
        "print('xsnoop: %.3f' % x[14])\r\n"
      ],
      "execution_count": 56,
      "outputs": [
        {
          "output_type": "stream",
          "text": [
            "Buffer Overflow: 0.059\n",
            "FTP_Write 0.000\n",
            "Guess Password: 0.981\n",
            "http tunnel: 0.923\n",
            "ipsweep: 0.922\n",
            "mailbomb: 0.998\n",
            "neptune: 1.000\n",
            "nmap: 0.769\n",
            "normal: 0.998\n",
            "pod: 0.879\n",
            "smurf: 1.000\n",
            "teardrop: 0.985\n",
            "worm: 0.000\n",
            "udpstorm: 0.000\n",
            "xsnoop: 1.000\n"
          ],
          "name": "stdout"
        }
      ]
    },
    {
      "cell_type": "code",
      "metadata": {
        "colab": {
          "base_uri": "https://localhost:8080/"
        },
        "id": "G30Q5cRzu70i",
        "outputId": "d26f8b5a-f8b1-46c9-903e-6105d06f2540"
      },
      "source": [
        "from collections import Counter\r\n",
        "\r\n",
        "counter = Counter(y_test)\r\n",
        "print(counter)\r\n",
        "counter_train  = Counter(y_train)\r\n",
        "print(counter_train)"
      ],
      "execution_count": 18,
      "outputs": [
        {
          "output_type": "stream",
          "text": [
            "Counter({'smurf.': 146811, 'neptune.': 54517, 'normal.': 52097, 'mailbomb.': 1650, 'guess_passwd.': 1459, 'ipsweep.': 512, 'teardrop.': 327, 'pod.': 116, 'nmap.': 104, 'httptunnel.': 52, 'buffer_overflow.': 17, 'ftp_write.': 4, 'xsnoop.': 1, 'udpstorm.': 1, 'worm.': 1})\n",
            "Counter({'smurf.': 298070, 'neptune.': 110685, 'normal.': 105774, 'mailbomb.': 3350, 'guess_passwd.': 2961, 'ipsweep.': 1041, 'teardrop.': 664, 'pod.': 235, 'nmap.': 211, 'httptunnel.': 106, 'buffer_overflow.': 35, 'ftp_write.': 7, 'xsnoop.': 3, 'udpstorm.': 1, 'worm.': 1})\n"
          ],
          "name": "stdout"
        }
      ]
    },
    {
      "cell_type": "code",
      "metadata": {
        "colab": {
          "base_uri": "https://localhost:8080/"
        },
        "id": "iPE6A1jwvav_",
        "outputId": "1e76e6b1-cabf-48ed-fc85-db8b79ca1a03"
      },
      "source": [
        "from imblearn.over_sampling import SMOTE\r\n",
        "\r\n",
        "#strategy = {0:50, 1: 20, 3: 150, 9:100, }\r\n",
        "#oversample = SMOTE(sampling_strategy=strategy, k_neighbors=3)\r\n",
        "from imblearn.over_sampling import RandomOverSampler \r\n",
        "strategy = { 'xsnoop.': 6, 'worm.': 6, 'udpstorm.': 6}\r\n",
        "oversample = RandomOverSampler(sampling_strategy= strategy)\r\n",
        "X_train_over, y_train_over= oversample.fit_resample(X_train, y_train)\r\n",
        "strategy = {'nmap.': 60000, 'buffer_overflow.': 60000, 'ftp_write.': 60000, 'worm.': 90000, 'udpstorm.': 90000}\r\n",
        "oversample = SMOTE(sampling_strategy= strategy, k_neighbors=4)\r\n",
        "X_train_over, y_train_over= oversample.fit_resample(X_train_over, y_train_over)\r\n",
        "#strategy_test = {'ipsweep.': 513, 'buffer_overflow.': 20, 'ftp_write.': 10, 'xsnoop.': 2, 'worm.': 2, 'udpstorm.': 2}\r\n",
        "#oversample = RandomOverSampler(sampling_strategy= strategy_test)\r\n",
        "#PRX_test_over, y_test_over= oversample.fit_resample(X_test, y_test)\r\n",
        "\r\n",
        "print(Counter(y_train_over))"
      ],
      "execution_count": 97,
      "outputs": [
        {
          "output_type": "stream",
          "text": [
            "/usr/local/lib/python3.6/dist-packages/sklearn/utils/deprecation.py:87: FutureWarning: Function safe_indexing is deprecated; safe_indexing is deprecated in version 0.22 and will be removed in version 0.24.\n",
            "  warnings.warn(msg, category=FutureWarning)\n",
            "/usr/local/lib/python3.6/dist-packages/sklearn/utils/deprecation.py:87: FutureWarning: Function safe_indexing is deprecated; safe_indexing is deprecated in version 0.22 and will be removed in version 0.24.\n",
            "  warnings.warn(msg, category=FutureWarning)\n",
            "/usr/local/lib/python3.6/dist-packages/sklearn/utils/deprecation.py:87: FutureWarning: Function safe_indexing is deprecated; safe_indexing is deprecated in version 0.22 and will be removed in version 0.24.\n",
            "  warnings.warn(msg, category=FutureWarning)\n",
            "/usr/local/lib/python3.6/dist-packages/sklearn/utils/deprecation.py:87: FutureWarning: Function safe_indexing is deprecated; safe_indexing is deprecated in version 0.22 and will be removed in version 0.24.\n",
            "  warnings.warn(msg, category=FutureWarning)\n",
            "/usr/local/lib/python3.6/dist-packages/sklearn/utils/deprecation.py:87: FutureWarning: Function safe_indexing is deprecated; safe_indexing is deprecated in version 0.22 and will be removed in version 0.24.\n",
            "  warnings.warn(msg, category=FutureWarning)\n",
            "/usr/local/lib/python3.6/dist-packages/sklearn/utils/deprecation.py:87: FutureWarning: Function safe_indexing is deprecated; safe_indexing is deprecated in version 0.22 and will be removed in version 0.24.\n",
            "  warnings.warn(msg, category=FutureWarning)\n"
          ],
          "name": "stderr"
        },
        {
          "output_type": "stream",
          "text": [
            "Counter({'smurf.': 298070, 'neptune.': 110685, 'normal.': 105774, 'worm.': 90000, 'udpstorm.': 90000, 'nmap.': 60000, 'buffer_overflow.': 60000, 'ftp_write.': 60000, 'mailbomb.': 3350, 'guess_passwd.': 2961, 'ipsweep.': 1041, 'teardrop.': 664, 'pod.': 235, 'httptunnel.': 106, 'xsnoop.': 6})\n"
          ],
          "name": "stdout"
        }
      ]
    },
    {
      "cell_type": "code",
      "metadata": {
        "colab": {
          "base_uri": "https://localhost:8080/"
        },
        "id": "46w7Dn6av_-G",
        "outputId": "ab2bf89e-97f5-4e21-a163-a0434b5cafa8"
      },
      "source": [
        "from sklearn.ensemble import RandomForestClassifier\r\n",
        "classifier_over = RandomForestClassifier(n_estimators = 10, criterion = 'entropy', random_state = 0)\r\n",
        "classifier_over.fit(X_train_over, y_train_over)"
      ],
      "execution_count": 98,
      "outputs": [
        {
          "output_type": "execute_result",
          "data": {
            "text/plain": [
              "RandomForestClassifier(bootstrap=True, ccp_alpha=0.0, class_weight=None,\n",
              "                       criterion='entropy', max_depth=None, max_features='auto',\n",
              "                       max_leaf_nodes=None, max_samples=None,\n",
              "                       min_impurity_decrease=0.0, min_impurity_split=None,\n",
              "                       min_samples_leaf=1, min_samples_split=2,\n",
              "                       min_weight_fraction_leaf=0.0, n_estimators=10,\n",
              "                       n_jobs=None, oob_score=False, random_state=0, verbose=0,\n",
              "                       warm_start=False)"
            ]
          },
          "metadata": {
            "tags": []
          },
          "execution_count": 98
        }
      ]
    },
    {
      "cell_type": "code",
      "metadata": {
        "colab": {
          "base_uri": "https://localhost:8080/",
          "height": 716
        },
        "id": "WzDGSNM5wRFJ",
        "outputId": "36d69c2f-7d50-4d07-9f95-89e0262ac1a4"
      },
      "source": [
        "from sklearn.model_selection import cross_val_predict\r\n",
        "y_pred_over_2 = classifier_over.predict(X_test)\r\n",
        "from sklearn.metrics import confusion_matrix\r\n",
        "cm_over = confusion_matrix(y_test, y_pred_over_2)\r\n",
        "print(make_confusion_matrix(cf = cm_over, categories=['Buffer Overflow', 'Ftp write', 'Guess Password', 'http tunnel', 'ipsweep', 'mailbomb', 'neptune', 'nmap', 'normal', 'pod', 'smurf' , 'teardrop', 'worm', 'udpstorm', 'xsnoop'] ,sum_stats = True, figsize = (18,10)))"
      ],
      "execution_count": 99,
      "outputs": [
        {
          "output_type": "stream",
          "text": [
            "None\n"
          ],
          "name": "stdout"
        },
        {
          "output_type": "display_data",
          "data": {
            "image/png": "[encoded data removed]",
            "text/plain": [
              "<Figure size 1296x720 with 2 Axes>"
            ]
          },
          "metadata": {
            "tags": [],
            "needs_background": "light"
          }
        }
      ]
    },
    {
      "cell_type": "code",
      "metadata": {
        "id": "hi8eiq1ys0mF"
      },
      "source": [
        "#Metrics\r\n",
        "from sklearn.metrics import precision_score\r\n",
        "from sklearn.metrics import f1_score\r\n",
        "from sklearn.metrics import accuracy_score\r\n",
        "precision = precision_score(y_test, y_pred_over_2,  average='macro')\r\n",
        "print('Precision: %.3f' % precision)\r\n",
        "recall = recall_score(y_test, y_pred_over_2, average='macro')\r\n",
        "print('Recall: %.3f' % recall)\r\n",
        "score = f1_score(y_test, y_pred_over_2, average='macro')\r\n",
        "print('F-Measure: %.3f' % score)\r\n"
      ],
      "execution_count": null,
      "outputs": []
    },
    {
      "cell_type": "code",
      "metadata": {
        "id": "SrA5VTdywu1X"
      },
      "source": [
        "cf_over= cm_over.astype('float') / cm_over.sum(axis=1)[:, np.newaxis]\r\n",
        "print(cf_over.diagonal())\r\n",
        "from sklearn.metrics import recall_score\r\n"
      ],
      "execution_count": null,
      "outputs": []
    },
    {
      "cell_type": "code",
      "metadata": {
        "id": "Np8-N-bQV5UT"
      },
      "source": [
        "x = []\r\n",
        "for i in range(0,15):\r\n",
        "  x.append(cf_over.diagonal()[i])\r\n",
        "\r\n",
        "\r\n",
        "print('Buffer Overflow: %.3f' % x[0])\r\n",
        "print('FTP_Write %.3f' % x[1])\r\n",
        "print('Guess Password: %.3f' % x[2])\r\n",
        "print('http tunnel: %.3f' % x[3])\r\n",
        "print('ipsweep: %.3f' % x[4])\r\n",
        "print('mailbomb: %.3f' % x[5])\r\n",
        "print('neptune: %.3f' % x[6])\r\n",
        "print('nmap: %.3f' % x[7])\r\n",
        "print('normal: %.3f' % x[8])\r\n",
        "print('pod: %.3f' % x[9])\r\n",
        "print('smurf: %.3f' % x[10])\r\n",
        "print('teardrop: %.3f' % x[11])\r\n",
        "print('worm: %.3f' % x[12])\r\n",
        "print('udpstorm: %.3f' % x[13])\r\n",
        "print('xsnoop: %.3f' % x[14])\r\n"
      ],
      "execution_count": null,
      "outputs": []
    }
  ]
}